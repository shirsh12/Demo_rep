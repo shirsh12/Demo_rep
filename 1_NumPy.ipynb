{
  "nbformat": 4,
  "nbformat_minor": 0,
  "metadata": {
    "kernelspec": {
      "display_name": "Python 3",
      "language": "python",
      "name": "python3"
    },
    "language_info": {
      "codemirror_mode": {
        "name": "ipython",
        "version": 3
      },
      "file_extension": ".py",
      "mimetype": "text/x-python",
      "name": "python",
      "nbconvert_exporter": "python",
      "pygments_lexer": "ipython3",
      "version": "3.6.4"
    },
    "colab": {
      "name": "1. NumPy.ipynb",
      "provenance": [],
      "include_colab_link": true
    }
  },
  "cells": [
    {
      "cell_type": "markdown",
      "metadata": {
        "id": "view-in-github",
        "colab_type": "text"
      },
      "source": [
        "<a href=\"https://colab.research.google.com/github/shirsh12/Demo_rep/blob/main/1_NumPy.ipynb\" target=\"_parent\"><img src=\"https://colab.research.google.com/assets/colab-badge.svg\" alt=\"Open In Colab\"/></a>"
      ]
    },
    {
      "cell_type": "markdown",
      "metadata": {
        "id": "zzAVEnCZ7OXm"
      },
      "source": [
        "### Initialization"
      ]
    },
    {
      "cell_type": "code",
      "metadata": {
        "id": "jqLhRjqB7OXt"
      },
      "source": [
        "import numpy as np"
      ],
      "execution_count": null,
      "outputs": []
    },
    {
      "cell_type": "code",
      "metadata": {
        "id": "MbgckP4b7OXw"
      },
      "source": [
        "a = np.zeros((3,3,3))"
      ],
      "execution_count": null,
      "outputs": []
    },
    {
      "cell_type": "code",
      "metadata": {
        "colab": {
          "base_uri": "https://localhost:8080/"
        },
        "id": "1u5UuLRy7OXy",
        "outputId": "dc2601ff-9db7-4aa1-d611-f1bcaa427758"
      },
      "source": [
        "a"
      ],
      "execution_count": null,
      "outputs": [
        {
          "output_type": "execute_result",
          "data": {
            "text/plain": [
              "array([[[0., 0., 0.],\n",
              "        [0., 0., 0.],\n",
              "        [0., 0., 0.]],\n",
              "\n",
              "       [[0., 0., 0.],\n",
              "        [0., 0., 0.],\n",
              "        [0., 0., 0.]],\n",
              "\n",
              "       [[0., 0., 0.],\n",
              "        [0., 0., 0.],\n",
              "        [0., 0., 0.]]])"
            ]
          },
          "metadata": {
            "tags": []
          },
          "execution_count": 3
        }
      ]
    },
    {
      "cell_type": "code",
      "metadata": {
        "colab": {
          "base_uri": "https://localhost:8080/"
        },
        "id": "s48CJWZp7gBk",
        "outputId": "2cc15215-13fa-4b7e-b0d9-f45deb4b6f61"
      },
      "source": [
        "from google.colab import drive\n",
        "drive.mount('/content/drive')"
      ],
      "execution_count": null,
      "outputs": [
        {
          "output_type": "stream",
          "text": [
            "Mounted at /content/drive\n"
          ],
          "name": "stdout"
        }
      ]
    },
    {
      "cell_type": "code",
      "metadata": {
        "id": "HGLOLS8X7r6c",
        "colab": {
          "base_uri": "https://localhost:8080/"
        },
        "outputId": "711dae78-b5f3-4a11-9228-5637ff02bfd8"
      },
      "source": [
        "!ls"
      ],
      "execution_count": null,
      "outputs": [
        {
          "output_type": "stream",
          "text": [
            "drive  sample_data\n"
          ],
          "name": "stdout"
        }
      ]
    },
    {
      "cell_type": "code",
      "metadata": {
        "id": "waiC4lb07OX0",
        "outputId": "e7007142-5969-4c77-e48e-32bfe7a24b49"
      },
      "source": [
        "np.ones((2,2,4), dtype=int)"
      ],
      "execution_count": null,
      "outputs": [
        {
          "output_type": "execute_result",
          "data": {
            "text/plain": [
              "array([[[1, 1, 1, 1],\n",
              "        [1, 1, 1, 1]],\n",
              "\n",
              "       [[1, 1, 1, 1],\n",
              "        [1, 1, 1, 1]]])"
            ]
          },
          "metadata": {
            "tags": []
          },
          "execution_count": 10
        }
      ]
    },
    {
      "cell_type": "code",
      "metadata": {
        "id": "Xwyf38Yn7OX2",
        "outputId": "cba14d3e-dc0d-43ca-e099-03adff213d0a"
      },
      "source": [
        "np.full((2,2),\"hellottwyyw\", dtype='<U7')"
      ],
      "execution_count": null,
      "outputs": [
        {
          "output_type": "execute_result",
          "data": {
            "text/plain": [
              "array([['hellott', 'hellott'],\n",
              "       ['hellott', 'hellott']], dtype='<U7')"
            ]
          },
          "metadata": {
            "tags": []
          },
          "execution_count": 12
        }
      ]
    },
    {
      "cell_type": "code",
      "metadata": {
        "id": "WQfR3wpQ7OX3",
        "outputId": "8047ab02-f188-4e06-f5f7-1052e263c9a4"
      },
      "source": [
        "np.random.rand(10)"
      ],
      "execution_count": null,
      "outputs": [
        {
          "output_type": "execute_result",
          "data": {
            "text/plain": [
              "array([0.12520064, 0.07562049, 0.12900815, 0.55747886, 0.11532656,\n",
              "       0.53774122, 0.06926235, 0.29796341, 0.09515193, 0.05531125])"
            ]
          },
          "metadata": {
            "tags": []
          },
          "execution_count": 13
        }
      ]
    },
    {
      "cell_type": "code",
      "metadata": {
        "id": "hPuT2lAo7OX5"
      },
      "source": [
        "data = np.random.randint(5,10,(10,10))"
      ],
      "execution_count": null,
      "outputs": []
    },
    {
      "cell_type": "markdown",
      "metadata": {
        "id": "j-UVNppq7OX7"
      },
      "source": [
        "### Access of NumPy "
      ]
    },
    {
      "cell_type": "code",
      "metadata": {
        "id": "4X0jlp7L7OX9",
        "outputId": "d18e135f-4af2-4ac2-f104-d0beb6b89ee4"
      },
      "source": [
        "data[4:8]"
      ],
      "execution_count": null,
      "outputs": [
        {
          "output_type": "execute_result",
          "data": {
            "text/plain": [
              "array([[6, 6, 7, 7, 5, 6, 9, 9, 8, 7],\n",
              "       [8, 5, 9, 5, 7, 8, 5, 9, 6, 8],\n",
              "       [7, 7, 6, 6, 5, 9, 6, 6, 5, 9],\n",
              "       [5, 6, 9, 6, 8, 9, 9, 6, 9, 8]])"
            ]
          },
          "metadata": {
            "tags": []
          },
          "execution_count": 20
        }
      ]
    },
    {
      "cell_type": "code",
      "metadata": {
        "id": "N90CL9z27OX_",
        "outputId": "599f95cc-c3ea-4f70-b6a2-4d37244e90fa"
      },
      "source": [
        "data[4:8,4:6]"
      ],
      "execution_count": null,
      "outputs": [
        {
          "output_type": "execute_result",
          "data": {
            "text/plain": [
              "array([[5, 6],\n",
              "       [7, 8],\n",
              "       [5, 9],\n",
              "       [8, 9]])"
            ]
          },
          "metadata": {
            "tags": []
          },
          "execution_count": 22
        }
      ]
    },
    {
      "cell_type": "code",
      "metadata": {
        "id": "ImgDKuKo7OYE",
        "outputId": "fb6132b0-71c5-4d83-b590-1c269c8cce07"
      },
      "source": [
        "data[4:6,4:6]"
      ],
      "execution_count": null,
      "outputs": [
        {
          "output_type": "execute_result",
          "data": {
            "text/plain": [
              "array([[5, 6],\n",
              "       [7, 8]])"
            ]
          },
          "metadata": {
            "tags": []
          },
          "execution_count": 28
        }
      ]
    },
    {
      "cell_type": "markdown",
      "metadata": {
        "id": "6PwEZOp77OYE"
      },
      "source": [
        "### Combine Data"
      ]
    },
    {
      "cell_type": "code",
      "metadata": {
        "id": "6PePMJnr7OYF"
      },
      "source": [
        "data1 = np.random.randint(5,15,size=(5,3))"
      ],
      "execution_count": null,
      "outputs": []
    },
    {
      "cell_type": "code",
      "metadata": {
        "id": "U5VkNNJt7OYF"
      },
      "source": [
        "data2 = np.random.randint(5,15,size=(5,3))"
      ],
      "execution_count": null,
      "outputs": []
    },
    {
      "cell_type": "code",
      "metadata": {
        "id": "BAyxTVSu7OYG",
        "outputId": "7c1dce42-06d6-4f2e-fcb9-72b1e13edf65"
      },
      "source": [
        "np.hstack([data1,data2])"
      ],
      "execution_count": null,
      "outputs": [
        {
          "output_type": "execute_result",
          "data": {
            "text/plain": [
              "array([[ 8, 10, 14,  6, 13,  6],\n",
              "       [ 6, 10, 14, 10, 14, 13],\n",
              "       [12,  5, 13,  5,  8, 13],\n",
              "       [ 5, 14, 10, 12,  9,  6],\n",
              "       [ 9,  7, 14, 13,  9,  8]])"
            ]
          },
          "metadata": {
            "tags": []
          },
          "execution_count": 32
        }
      ]
    },
    {
      "cell_type": "code",
      "metadata": {
        "id": "aEYBDgYs7OYH",
        "outputId": "4ca14388-464a-4e37-cf67-ed773486773a"
      },
      "source": [
        "np.vstack([data1, data2])"
      ],
      "execution_count": null,
      "outputs": [
        {
          "output_type": "execute_result",
          "data": {
            "text/plain": [
              "array([[ 8, 10, 14],\n",
              "       [ 6, 10, 14],\n",
              "       [12,  5, 13],\n",
              "       [ 5, 14, 10],\n",
              "       [ 9,  7, 14],\n",
              "       [ 6, 13,  6],\n",
              "       [10, 14, 13],\n",
              "       [ 5,  8, 13],\n",
              "       [12,  9,  6],\n",
              "       [13,  9,  8]])"
            ]
          },
          "metadata": {
            "tags": []
          },
          "execution_count": 33
        }
      ]
    },
    {
      "cell_type": "code",
      "metadata": {
        "id": "rPLMHgtq7OYI",
        "outputId": "68ce48a2-382a-48b4-f3cd-7ce11c5be18c"
      },
      "source": [
        "np.concatenate([data1, data2], axis=1)"
      ],
      "execution_count": null,
      "outputs": [
        {
          "output_type": "execute_result",
          "data": {
            "text/plain": [
              "array([[ 8, 10, 14,  6, 13,  6],\n",
              "       [ 6, 10, 14, 10, 14, 13],\n",
              "       [12,  5, 13,  5,  8, 13],\n",
              "       [ 5, 14, 10, 12,  9,  6],\n",
              "       [ 9,  7, 14, 13,  9,  8]])"
            ]
          },
          "metadata": {
            "tags": []
          },
          "execution_count": 34
        }
      ]
    },
    {
      "cell_type": "code",
      "metadata": {
        "id": "63xsZgEz7OYI"
      },
      "source": [
        "data1 = np.random.randint(5,15,size=(5,3,2))"
      ],
      "execution_count": null,
      "outputs": []
    },
    {
      "cell_type": "code",
      "metadata": {
        "id": "lkyXMW3I7OYJ"
      },
      "source": [
        "data2 = np.random.randint(5,15,size=(5,3,2))"
      ],
      "execution_count": null,
      "outputs": []
    },
    {
      "cell_type": "code",
      "metadata": {
        "id": "f_bOK8Qr7OYJ",
        "outputId": "e01ecaef-1d3b-47b4-9f81-b9537337b313"
      },
      "source": [
        "np.concatenate([data1, data2], axis=2)"
      ],
      "execution_count": null,
      "outputs": [
        {
          "output_type": "execute_result",
          "data": {
            "text/plain": [
              "array([[[ 5, 14, 14, 14],\n",
              "        [ 8,  9, 10,  8],\n",
              "        [12,  9, 14,  5]],\n",
              "\n",
              "       [[ 6, 11,  6, 12],\n",
              "        [ 9,  6,  5, 10],\n",
              "        [10,  6,  9,  8]],\n",
              "\n",
              "       [[11, 13,  8,  5],\n",
              "        [13, 14, 12,  6],\n",
              "        [ 7,  9, 14,  6]],\n",
              "\n",
              "       [[13,  9,  5, 11],\n",
              "        [ 5, 10,  5,  7],\n",
              "        [ 6,  5, 14,  6]],\n",
              "\n",
              "       [[ 5, 14, 11,  8],\n",
              "        [ 5,  5,  6,  9],\n",
              "        [ 7, 11, 11, 11]]])"
            ]
          },
          "metadata": {
            "tags": []
          },
          "execution_count": 41
        }
      ]
    },
    {
      "cell_type": "markdown",
      "metadata": {
        "id": "jva9JfvE7OYL"
      },
      "source": [
        "### Splitting Data"
      ]
    },
    {
      "cell_type": "code",
      "metadata": {
        "id": "4YXa9RQC7OYL"
      },
      "source": [
        "a1,a2 = np.hsplit(data,[5])"
      ],
      "execution_count": null,
      "outputs": []
    },
    {
      "cell_type": "code",
      "metadata": {
        "id": "3KODlW1A7OYM",
        "outputId": "1e856a52-90b7-4994-afe5-65f8799cccd5"
      },
      "source": [
        "a1"
      ],
      "execution_count": null,
      "outputs": [
        {
          "output_type": "execute_result",
          "data": {
            "text/plain": [
              "array([[9, 6, 5, 7, 9],\n",
              "       [8, 9, 9, 6, 9],\n",
              "       [9, 9, 8, 6, 7],\n",
              "       [5, 5, 5, 6, 5],\n",
              "       [6, 6, 7, 7, 5],\n",
              "       [8, 5, 9, 5, 7],\n",
              "       [7, 7, 6, 6, 5],\n",
              "       [5, 6, 9, 6, 8],\n",
              "       [6, 9, 6, 6, 7],\n",
              "       [5, 7, 5, 5, 6]])"
            ]
          },
          "metadata": {
            "tags": []
          },
          "execution_count": 45
        }
      ]
    },
    {
      "cell_type": "code",
      "metadata": {
        "id": "tFv8zmoK7OYM"
      },
      "source": [
        "b1,b2,b3 = np.vsplit(data,[5,7])"
      ],
      "execution_count": null,
      "outputs": []
    },
    {
      "cell_type": "code",
      "metadata": {
        "id": "E6QUVWXl7OYO",
        "outputId": "1b4f1a13-cdfd-460e-a8ac-035c364b9cfa"
      },
      "source": [
        "b1"
      ],
      "execution_count": null,
      "outputs": [
        {
          "output_type": "execute_result",
          "data": {
            "text/plain": [
              "array([[9, 6, 5, 7, 9, 6, 5, 5, 5, 6],\n",
              "       [8, 9, 9, 6, 9, 7, 5, 6, 7, 8],\n",
              "       [9, 9, 8, 6, 7, 7, 6, 6, 9, 5],\n",
              "       [5, 5, 5, 6, 5, 9, 9, 9, 8, 9],\n",
              "       [6, 6, 7, 7, 5, 6, 9, 9, 8, 7]])"
            ]
          },
          "metadata": {
            "tags": []
          },
          "execution_count": 48
        }
      ]
    },
    {
      "cell_type": "code",
      "metadata": {
        "id": "uSLIZLvJ7OYO",
        "outputId": "ddcac786-142f-47df-fd47-2ef7faa9d7d9"
      },
      "source": [
        "b2"
      ],
      "execution_count": null,
      "outputs": [
        {
          "output_type": "execute_result",
          "data": {
            "text/plain": [
              "array([[8, 5, 9, 5, 7, 8, 5, 9, 6, 8],\n",
              "       [7, 7, 6, 6, 5, 9, 6, 6, 5, 9]])"
            ]
          },
          "metadata": {
            "tags": []
          },
          "execution_count": 49
        }
      ]
    },
    {
      "cell_type": "code",
      "metadata": {
        "id": "HV-p8wE97OYO",
        "outputId": "f7fc7b32-d831-4f83-d19f-68ab8ca1afe8"
      },
      "source": [
        "b3"
      ],
      "execution_count": null,
      "outputs": [
        {
          "output_type": "execute_result",
          "data": {
            "text/plain": [
              "array([[5, 6, 9, 6, 8, 9, 9, 6, 9, 8],\n",
              "       [6, 9, 6, 6, 7, 7, 5, 8, 5, 8],\n",
              "       [5, 7, 5, 5, 6, 5, 6, 6, 5, 6]])"
            ]
          },
          "metadata": {
            "tags": []
          },
          "execution_count": 50
        }
      ]
    },
    {
      "cell_type": "markdown",
      "metadata": {
        "id": "4lxDyMnE7OYO"
      },
      "source": [
        "### Shape, Dimension"
      ]
    },
    {
      "cell_type": "code",
      "metadata": {
        "id": "ot3wiCWX7OYP",
        "outputId": "5b831e84-3d09-4134-da9c-c86c410e3b22"
      },
      "source": [
        "data.shape"
      ],
      "execution_count": null,
      "outputs": [
        {
          "output_type": "execute_result",
          "data": {
            "text/plain": [
              "(10, 10)"
            ]
          },
          "metadata": {
            "tags": []
          },
          "execution_count": 52
        }
      ]
    },
    {
      "cell_type": "code",
      "metadata": {
        "id": "Nwzo2qWD7OYP",
        "outputId": "4c26cc93-0255-48cb-83ed-50dbd9b2faa1"
      },
      "source": [
        "data.ndim"
      ],
      "execution_count": null,
      "outputs": [
        {
          "output_type": "execute_result",
          "data": {
            "text/plain": [
              "2"
            ]
          },
          "metadata": {
            "tags": []
          },
          "execution_count": 53
        }
      ]
    },
    {
      "cell_type": "code",
      "metadata": {
        "id": "H5XyR_P37OYQ",
        "outputId": "c2fe2c21-5806-4aca-ee4b-abd5c73c7b76"
      },
      "source": [
        "data.size"
      ],
      "execution_count": null,
      "outputs": [
        {
          "output_type": "execute_result",
          "data": {
            "text/plain": [
              "100"
            ]
          },
          "metadata": {
            "tags": []
          },
          "execution_count": 54
        }
      ]
    },
    {
      "cell_type": "code",
      "metadata": {
        "id": "NvVIA8Xi7OYR",
        "outputId": "5cee3cbd-a2a4-4f13-83f1-ca99d49cd4d7"
      },
      "source": [
        "data.reshape(2,50)"
      ],
      "execution_count": null,
      "outputs": [
        {
          "output_type": "execute_result",
          "data": {
            "text/plain": [
              "array([[9, 6, 5, 7, 9, 6, 5, 5, 5, 6, 8, 9, 9, 6, 9, 7, 5, 6, 7, 8, 9, 9,\n",
              "        8, 6, 7, 7, 6, 6, 9, 5, 5, 5, 5, 6, 5, 9, 9, 9, 8, 9, 6, 6, 7, 7,\n",
              "        5, 6, 9, 9, 8, 7],\n",
              "       [8, 5, 9, 5, 7, 8, 5, 9, 6, 8, 7, 7, 6, 6, 5, 9, 6, 6, 5, 9, 5, 6,\n",
              "        9, 6, 8, 9, 9, 6, 9, 8, 6, 9, 6, 6, 7, 7, 5, 8, 5, 8, 5, 7, 5, 5,\n",
              "        6, 5, 6, 6, 5, 6]])"
            ]
          },
          "metadata": {
            "tags": []
          },
          "execution_count": 56
        }
      ]
    },
    {
      "cell_type": "code",
      "metadata": {
        "id": "m2TbIA0K7OYS"
      },
      "source": [
        "d = np.array([1,2,3,4,5,6,7,9])"
      ],
      "execution_count": null,
      "outputs": []
    },
    {
      "cell_type": "code",
      "metadata": {
        "id": "ShMIM88d7OYT",
        "outputId": "2ca2a182-7124-4ce1-8cd4-6683294b0db6"
      },
      "source": [
        "d.ndim"
      ],
      "execution_count": null,
      "outputs": [
        {
          "output_type": "execute_result",
          "data": {
            "text/plain": [
              "1"
            ]
          },
          "metadata": {
            "tags": []
          },
          "execution_count": 59
        }
      ]
    },
    {
      "cell_type": "code",
      "metadata": {
        "id": "_qaZjvFZ7OYU",
        "outputId": "7fe552d4-6cef-4339-e1c4-ffc17dbf512d"
      },
      "source": [
        "d.shape"
      ],
      "execution_count": null,
      "outputs": [
        {
          "output_type": "execute_result",
          "data": {
            "text/plain": [
              "(8,)"
            ]
          },
          "metadata": {
            "tags": []
          },
          "execution_count": 60
        }
      ]
    },
    {
      "cell_type": "code",
      "metadata": {
        "id": "c2pC9uD-7OYV",
        "outputId": "7cd47e4e-ad4d-458a-8451-fc407006bb61"
      },
      "source": [
        "d.size"
      ],
      "execution_count": null,
      "outputs": [
        {
          "output_type": "execute_result",
          "data": {
            "text/plain": [
              "8"
            ]
          },
          "metadata": {
            "tags": []
          },
          "execution_count": 61
        }
      ]
    },
    {
      "cell_type": "code",
      "metadata": {
        "id": "EBWBOKb07OYV",
        "outputId": "d324f9d9-b40e-4e7b-ae92-0577a4e841ec"
      },
      "source": [
        "d.reshape(8,1)"
      ],
      "execution_count": null,
      "outputs": [
        {
          "output_type": "execute_result",
          "data": {
            "text/plain": [
              "array([[1],\n",
              "       [2],\n",
              "       [3],\n",
              "       [4],\n",
              "       [5],\n",
              "       [6],\n",
              "       [7],\n",
              "       [9]])"
            ]
          },
          "metadata": {
            "tags": []
          },
          "execution_count": 62
        }
      ]
    },
    {
      "cell_type": "code",
      "metadata": {
        "id": "3KraVlfZ7OYW",
        "outputId": "ad6fe532-2d1a-44c2-ca9d-2a07ecc3bef2"
      },
      "source": [
        "data.reshape(-1,20)"
      ],
      "execution_count": null,
      "outputs": [
        {
          "output_type": "execute_result",
          "data": {
            "text/plain": [
              "array([[9, 6, 5, 7, 9, 6, 5, 5, 5, 6, 8, 9, 9, 6, 9, 7, 5, 6, 7, 8],\n",
              "       [9, 9, 8, 6, 7, 7, 6, 6, 9, 5, 5, 5, 5, 6, 5, 9, 9, 9, 8, 9],\n",
              "       [6, 6, 7, 7, 5, 6, 9, 9, 8, 7, 8, 5, 9, 5, 7, 8, 5, 9, 6, 8],\n",
              "       [7, 7, 6, 6, 5, 9, 6, 6, 5, 9, 5, 6, 9, 6, 8, 9, 9, 6, 9, 8],\n",
              "       [6, 9, 6, 6, 7, 7, 5, 8, 5, 8, 5, 7, 5, 5, 6, 5, 6, 6, 5, 6]])"
            ]
          },
          "metadata": {
            "tags": []
          },
          "execution_count": 65
        }
      ]
    },
    {
      "cell_type": "markdown",
      "metadata": {
        "id": "qKdJshoA7OYW"
      },
      "source": [
        "### Utility Function"
      ]
    },
    {
      "cell_type": "code",
      "metadata": {
        "id": "DW1NqwwZ7OYX",
        "outputId": "c5ac1810-dcdc-4dd6-f18a-7f274eb8d58e"
      },
      "source": [
        "np.sum(data)"
      ],
      "execution_count": null,
      "outputs": [
        {
          "output_type": "execute_result",
          "data": {
            "text/plain": [
              "683"
            ]
          },
          "metadata": {
            "tags": []
          },
          "execution_count": 68
        }
      ]
    },
    {
      "cell_type": "code",
      "metadata": {
        "id": "Lfrro3jG7OYY",
        "outputId": "763420df-3878-454f-b8ff-c1d3cfed15f8"
      },
      "source": [
        "np.sum(data, axis=1)"
      ],
      "execution_count": null,
      "outputs": [
        {
          "output_type": "execute_result",
          "data": {
            "text/plain": [
              "array([63, 74, 72, 70, 70, 70, 66, 75, 67, 56])"
            ]
          },
          "metadata": {
            "tags": []
          },
          "execution_count": 72
        }
      ]
    },
    {
      "cell_type": "code",
      "metadata": {
        "id": "Zg7bMkf87OYY",
        "outputId": "6e30c1a3-1557-4cd5-9a0b-cc87b0554e02"
      },
      "source": [
        "data"
      ],
      "execution_count": null,
      "outputs": [
        {
          "output_type": "execute_result",
          "data": {
            "text/plain": [
              "array([[9, 6, 5, 7, 9, 6, 5, 5, 5, 6],\n",
              "       [8, 9, 9, 6, 9, 7, 5, 6, 7, 8],\n",
              "       [9, 9, 8, 6, 7, 7, 6, 6, 9, 5],\n",
              "       [5, 5, 5, 6, 5, 9, 9, 9, 8, 9],\n",
              "       [6, 6, 7, 7, 5, 6, 9, 9, 8, 7],\n",
              "       [8, 5, 9, 5, 7, 8, 5, 9, 6, 8],\n",
              "       [7, 7, 6, 6, 5, 9, 6, 6, 5, 9],\n",
              "       [5, 6, 9, 6, 8, 9, 9, 6, 9, 8],\n",
              "       [6, 9, 6, 6, 7, 7, 5, 8, 5, 8],\n",
              "       [5, 7, 5, 5, 6, 5, 6, 6, 5, 6]])"
            ]
          },
          "metadata": {
            "tags": []
          },
          "execution_count": 71
        }
      ]
    },
    {
      "cell_type": "code",
      "metadata": {
        "id": "quyY2ojr7OYZ",
        "outputId": "74b075d8-dcea-4592-bf63-d5ba60cb6db4"
      },
      "source": [
        "np.sin(data)"
      ],
      "execution_count": null,
      "outputs": [
        {
          "output_type": "execute_result",
          "data": {
            "text/plain": [
              "array([[ 0.41211849, -0.2794155 , -0.95892427,  0.6569866 ,  0.41211849,\n",
              "        -0.2794155 , -0.95892427, -0.95892427, -0.95892427, -0.2794155 ],\n",
              "       [ 0.98935825,  0.41211849,  0.41211849, -0.2794155 ,  0.41211849,\n",
              "         0.6569866 , -0.95892427, -0.2794155 ,  0.6569866 ,  0.98935825],\n",
              "       [ 0.41211849,  0.41211849,  0.98935825, -0.2794155 ,  0.6569866 ,\n",
              "         0.6569866 , -0.2794155 , -0.2794155 ,  0.41211849, -0.95892427],\n",
              "       [-0.95892427, -0.95892427, -0.95892427, -0.2794155 , -0.95892427,\n",
              "         0.41211849,  0.41211849,  0.41211849,  0.98935825,  0.41211849],\n",
              "       [-0.2794155 , -0.2794155 ,  0.6569866 ,  0.6569866 , -0.95892427,\n",
              "        -0.2794155 ,  0.41211849,  0.41211849,  0.98935825,  0.6569866 ],\n",
              "       [ 0.98935825, -0.95892427,  0.41211849, -0.95892427,  0.6569866 ,\n",
              "         0.98935825, -0.95892427,  0.41211849, -0.2794155 ,  0.98935825],\n",
              "       [ 0.6569866 ,  0.6569866 , -0.2794155 , -0.2794155 , -0.95892427,\n",
              "         0.41211849, -0.2794155 , -0.2794155 , -0.95892427,  0.41211849],\n",
              "       [-0.95892427, -0.2794155 ,  0.41211849, -0.2794155 ,  0.98935825,\n",
              "         0.41211849,  0.41211849, -0.2794155 ,  0.41211849,  0.98935825],\n",
              "       [-0.2794155 ,  0.41211849, -0.2794155 , -0.2794155 ,  0.6569866 ,\n",
              "         0.6569866 , -0.95892427,  0.98935825, -0.95892427,  0.98935825],\n",
              "       [-0.95892427,  0.6569866 , -0.95892427, -0.95892427, -0.2794155 ,\n",
              "        -0.95892427, -0.2794155 , -0.2794155 , -0.95892427, -0.2794155 ]])"
            ]
          },
          "metadata": {
            "tags": []
          },
          "execution_count": 73
        }
      ]
    },
    {
      "cell_type": "code",
      "metadata": {
        "id": "kA6uZmii7OYZ",
        "outputId": "0bbd0224-ccd2-480a-dbc0-e2d90a8333ec"
      },
      "source": [
        "data.T"
      ],
      "execution_count": null,
      "outputs": [
        {
          "output_type": "execute_result",
          "data": {
            "text/plain": [
              "array([[9, 8, 9, 5, 6, 8, 7, 5, 6, 5],\n",
              "       [6, 9, 9, 5, 6, 5, 7, 6, 9, 7],\n",
              "       [5, 9, 8, 5, 7, 9, 6, 9, 6, 5],\n",
              "       [7, 6, 6, 6, 7, 5, 6, 6, 6, 5],\n",
              "       [9, 9, 7, 5, 5, 7, 5, 8, 7, 6],\n",
              "       [6, 7, 7, 9, 6, 8, 9, 9, 7, 5],\n",
              "       [5, 5, 6, 9, 9, 5, 6, 9, 5, 6],\n",
              "       [5, 6, 6, 9, 9, 9, 6, 6, 8, 6],\n",
              "       [5, 7, 9, 8, 8, 6, 5, 9, 5, 5],\n",
              "       [6, 8, 5, 9, 7, 8, 9, 8, 8, 6]])"
            ]
          },
          "metadata": {
            "tags": []
          },
          "execution_count": 75
        }
      ]
    },
    {
      "cell_type": "code",
      "metadata": {
        "id": "sE3uiRiM7OYa",
        "outputId": "20d9c351-161f-4469-ed1b-b51eceb656b9"
      },
      "source": [
        "data.mean(axis=1)"
      ],
      "execution_count": null,
      "outputs": [
        {
          "output_type": "execute_result",
          "data": {
            "text/plain": [
              "array([6.3, 7.4, 7.2, 7. , 7. , 7. , 6.6, 7.5, 6.7, 5.6])"
            ]
          },
          "metadata": {
            "tags": []
          },
          "execution_count": 76
        }
      ]
    },
    {
      "cell_type": "code",
      "metadata": {
        "id": "8KR7z46f7OYa",
        "outputId": "afc360c1-d2b0-4408-90c8-54e7c240babd"
      },
      "source": [
        "data.std(axis=1)"
      ],
      "execution_count": null,
      "outputs": [
        {
          "output_type": "execute_result",
          "data": {
            "text/plain": [
              "array([1.48660687, 1.356466  , 1.4       , 1.84390889, 1.26491106,\n",
              "       1.54919334, 1.356466  , 1.5       , 1.26885775, 0.66332496])"
            ]
          },
          "metadata": {
            "tags": []
          },
          "execution_count": 77
        }
      ]
    },
    {
      "cell_type": "markdown",
      "metadata": {
        "id": "Ll7JVExW7OYa"
      },
      "source": [
        "### Broadcasting"
      ]
    },
    {
      "cell_type": "code",
      "metadata": {
        "id": "5NvoMVKu7OYb"
      },
      "source": [
        "v = np.array([1,2,3,4,5])"
      ],
      "execution_count": null,
      "outputs": []
    },
    {
      "cell_type": "code",
      "metadata": {
        "id": "IUadHVGR7OYc"
      },
      "source": [
        "s = 10"
      ],
      "execution_count": null,
      "outputs": []
    },
    {
      "cell_type": "code",
      "metadata": {
        "id": "n3uDaWE67OYd",
        "outputId": "3550377c-dd61-46bf-ec01-e3ef4cf8e7d6"
      },
      "source": [
        "v + s"
      ],
      "execution_count": null,
      "outputs": [
        {
          "output_type": "execute_result",
          "data": {
            "text/plain": [
              "array([11, 12, 13, 14, 15])"
            ]
          },
          "metadata": {
            "tags": []
          },
          "execution_count": 80
        }
      ]
    },
    {
      "cell_type": "code",
      "metadata": {
        "id": "H-KfD5Zb7OYe"
      },
      "source": [
        "t = [10,11]"
      ],
      "execution_count": null,
      "outputs": []
    },
    {
      "cell_type": "code",
      "metadata": {
        "id": "bpdNOHuU7OYe"
      },
      "source": [
        "#v + t"
      ],
      "execution_count": null,
      "outputs": []
    },
    {
      "cell_type": "code",
      "metadata": {
        "id": "HNFImKSD7OYe"
      },
      "source": [
        "a = np.array([[1],[2],[3],[4],[5]])"
      ],
      "execution_count": null,
      "outputs": []
    },
    {
      "cell_type": "code",
      "metadata": {
        "id": "sC9vcNps7OYe",
        "outputId": "1118bae1-31d2-4f05-f1c3-271df25b12b5"
      },
      "source": [
        "a.shape"
      ],
      "execution_count": null,
      "outputs": [
        {
          "output_type": "execute_result",
          "data": {
            "text/plain": [
              "(5, 1)"
            ]
          },
          "metadata": {
            "tags": []
          },
          "execution_count": 86
        }
      ]
    },
    {
      "cell_type": "code",
      "metadata": {
        "id": "2EakVqzk7OYf",
        "outputId": "7df11b3a-de35-40c0-ce2d-9802723294ad"
      },
      "source": [
        "a + v"
      ],
      "execution_count": null,
      "outputs": [
        {
          "output_type": "execute_result",
          "data": {
            "text/plain": [
              "array([[ 2,  3,  4,  5,  6],\n",
              "       [ 3,  4,  5,  6,  7],\n",
              "       [ 4,  5,  6,  7,  8],\n",
              "       [ 5,  6,  7,  8,  9],\n",
              "       [ 6,  7,  8,  9, 10]])"
            ]
          },
          "metadata": {
            "tags": []
          },
          "execution_count": 87
        }
      ]
    },
    {
      "cell_type": "code",
      "metadata": {
        "id": "kA31kOdV7OYg"
      },
      "source": [
        "a = np.random.randint(1,5,size=(10,2))"
      ],
      "execution_count": null,
      "outputs": []
    },
    {
      "cell_type": "code",
      "metadata": {
        "id": "R-Dg88Ia7OYg"
      },
      "source": [
        "b = np.random.randint(1,5,size=(5,2))"
      ],
      "execution_count": null,
      "outputs": []
    },
    {
      "cell_type": "code",
      "metadata": {
        "id": "Ia5RiALf7OYg",
        "outputId": "8930da03-1221-48c0-a7d9-2641c510ae62"
      },
      "source": [
        "a.reshape(1,10,2)"
      ],
      "execution_count": null,
      "outputs": [
        {
          "output_type": "execute_result",
          "data": {
            "text/plain": [
              "array([[[3, 2],\n",
              "        [4, 2],\n",
              "        [3, 4],\n",
              "        [3, 3],\n",
              "        [3, 1],\n",
              "        [1, 3],\n",
              "        [2, 2],\n",
              "        [1, 1],\n",
              "        [4, 3],\n",
              "        [2, 2]]])"
            ]
          },
          "metadata": {
            "tags": []
          },
          "execution_count": 94
        }
      ]
    },
    {
      "cell_type": "code",
      "metadata": {
        "id": "xS9Cjq977OYh",
        "outputId": "8cc3f0ca-1fda-4470-9e3e-9d90ca2a99b6"
      },
      "source": [
        "b.reshape(5,1,2) - a.reshape(1,10,2)"
      ],
      "execution_count": null,
      "outputs": [
        {
          "output_type": "execute_result",
          "data": {
            "text/plain": [
              "array([[[-1,  2],\n",
              "        [-2,  2],\n",
              "        [-1,  0],\n",
              "        [-1,  1],\n",
              "        [-1,  3],\n",
              "        [ 1,  1],\n",
              "        [ 0,  2],\n",
              "        [ 1,  3],\n",
              "        [-2,  1],\n",
              "        [ 0,  2]],\n",
              "\n",
              "       [[-2,  2],\n",
              "        [-3,  2],\n",
              "        [-2,  0],\n",
              "        [-2,  1],\n",
              "        [-2,  3],\n",
              "        [ 0,  1],\n",
              "        [-1,  2],\n",
              "        [ 0,  3],\n",
              "        [-3,  1],\n",
              "        [-1,  2]],\n",
              "\n",
              "       [[-1,  2],\n",
              "        [-2,  2],\n",
              "        [-1,  0],\n",
              "        [-1,  1],\n",
              "        [-1,  3],\n",
              "        [ 1,  1],\n",
              "        [ 0,  2],\n",
              "        [ 1,  3],\n",
              "        [-2,  1],\n",
              "        [ 0,  2]],\n",
              "\n",
              "       [[ 1,  0],\n",
              "        [ 0,  0],\n",
              "        [ 1, -2],\n",
              "        [ 1, -1],\n",
              "        [ 1,  1],\n",
              "        [ 3, -1],\n",
              "        [ 2,  0],\n",
              "        [ 3,  1],\n",
              "        [ 0, -1],\n",
              "        [ 2,  0]],\n",
              "\n",
              "       [[ 0,  2],\n",
              "        [-1,  2],\n",
              "        [ 0,  0],\n",
              "        [ 0,  1],\n",
              "        [ 0,  3],\n",
              "        [ 2,  1],\n",
              "        [ 1,  2],\n",
              "        [ 2,  3],\n",
              "        [-1,  1],\n",
              "        [ 1,  2]]])"
            ]
          },
          "metadata": {
            "tags": []
          },
          "execution_count": 95
        }
      ]
    },
    {
      "cell_type": "code",
      "metadata": {
        "id": "rHndm-cS7OYi"
      },
      "source": [
        "a = np.random.randint(1,5,size=(10,2))\n",
        "b = np.random.randint(1,5,size=(5,3))"
      ],
      "execution_count": null,
      "outputs": []
    },
    {
      "cell_type": "code",
      "metadata": {
        "id": "ReBVDEm27OYj",
        "outputId": "6fec891d-8925-491b-eb39-33949283d78b"
      },
      "source": [
        "a.shape"
      ],
      "execution_count": null,
      "outputs": [
        {
          "output_type": "execute_result",
          "data": {
            "text/plain": [
              "(10, 2)"
            ]
          },
          "metadata": {
            "tags": []
          },
          "execution_count": 97
        }
      ]
    },
    {
      "cell_type": "code",
      "metadata": {
        "id": "FSUECR9a7OYk",
        "outputId": "738a7cc4-ba2d-4aef-dffe-d96b5747fe24"
      },
      "source": [
        "b.shape"
      ],
      "execution_count": null,
      "outputs": [
        {
          "output_type": "execute_result",
          "data": {
            "text/plain": [
              "(5, 3)"
            ]
          },
          "metadata": {
            "tags": []
          },
          "execution_count": 98
        }
      ]
    },
    {
      "cell_type": "code",
      "metadata": {
        "id": "DQ1H3rpQ7OYk",
        "outputId": "ec7563a0-1dc7-4016-de94-a13281a41ad4"
      },
      "source": [
        "a.reshape(1,10,1,2) - b.reshape(5,1,3,1)"
      ],
      "execution_count": null,
      "outputs": [
        {
          "output_type": "execute_result",
          "data": {
            "text/plain": [
              "array([[[[-3, -1],\n",
              "         [ 0,  2],\n",
              "         [-1,  1]],\n",
              "\n",
              "        [[-2,  0],\n",
              "         [ 1,  3],\n",
              "         [ 0,  2]],\n",
              "\n",
              "        [[ 0, -2],\n",
              "         [ 3,  1],\n",
              "         [ 2,  0]],\n",
              "\n",
              "        [[ 0,  0],\n",
              "         [ 3,  3],\n",
              "         [ 2,  2]],\n",
              "\n",
              "        [[-1, -3],\n",
              "         [ 2,  0],\n",
              "         [ 1, -1]],\n",
              "\n",
              "        [[-2, -2],\n",
              "         [ 1,  1],\n",
              "         [ 0,  0]],\n",
              "\n",
              "        [[ 0,  0],\n",
              "         [ 3,  3],\n",
              "         [ 2,  2]],\n",
              "\n",
              "        [[-3,  0],\n",
              "         [ 0,  3],\n",
              "         [-1,  2]],\n",
              "\n",
              "        [[-1, -3],\n",
              "         [ 2,  0],\n",
              "         [ 1, -1]],\n",
              "\n",
              "        [[-2, -3],\n",
              "         [ 1,  0],\n",
              "         [ 0, -1]]],\n",
              "\n",
              "\n",
              "       [[[ 0,  2],\n",
              "         [-2,  0],\n",
              "         [ 0,  2]],\n",
              "\n",
              "        [[ 1,  3],\n",
              "         [-1,  1],\n",
              "         [ 1,  3]],\n",
              "\n",
              "        [[ 3,  1],\n",
              "         [ 1, -1],\n",
              "         [ 3,  1]],\n",
              "\n",
              "        [[ 3,  3],\n",
              "         [ 1,  1],\n",
              "         [ 3,  3]],\n",
              "\n",
              "        [[ 2,  0],\n",
              "         [ 0, -2],\n",
              "         [ 2,  0]],\n",
              "\n",
              "        [[ 1,  1],\n",
              "         [-1, -1],\n",
              "         [ 1,  1]],\n",
              "\n",
              "        [[ 3,  3],\n",
              "         [ 1,  1],\n",
              "         [ 3,  3]],\n",
              "\n",
              "        [[ 0,  3],\n",
              "         [-2,  1],\n",
              "         [ 0,  3]],\n",
              "\n",
              "        [[ 2,  0],\n",
              "         [ 0, -2],\n",
              "         [ 2,  0]],\n",
              "\n",
              "        [[ 1,  0],\n",
              "         [-1, -2],\n",
              "         [ 1,  0]]],\n",
              "\n",
              "\n",
              "       [[[-3, -1],\n",
              "         [-2,  0],\n",
              "         [-2,  0]],\n",
              "\n",
              "        [[-2,  0],\n",
              "         [-1,  1],\n",
              "         [-1,  1]],\n",
              "\n",
              "        [[ 0, -2],\n",
              "         [ 1, -1],\n",
              "         [ 1, -1]],\n",
              "\n",
              "        [[ 0,  0],\n",
              "         [ 1,  1],\n",
              "         [ 1,  1]],\n",
              "\n",
              "        [[-1, -3],\n",
              "         [ 0, -2],\n",
              "         [ 0, -2]],\n",
              "\n",
              "        [[-2, -2],\n",
              "         [-1, -1],\n",
              "         [-1, -1]],\n",
              "\n",
              "        [[ 0,  0],\n",
              "         [ 1,  1],\n",
              "         [ 1,  1]],\n",
              "\n",
              "        [[-3,  0],\n",
              "         [-2,  1],\n",
              "         [-2,  1]],\n",
              "\n",
              "        [[-1, -3],\n",
              "         [ 0, -2],\n",
              "         [ 0, -2]],\n",
              "\n",
              "        [[-2, -3],\n",
              "         [-1, -2],\n",
              "         [-1, -2]]],\n",
              "\n",
              "\n",
              "       [[[-1,  1],\n",
              "         [ 0,  2],\n",
              "         [ 0,  2]],\n",
              "\n",
              "        [[ 0,  2],\n",
              "         [ 1,  3],\n",
              "         [ 1,  3]],\n",
              "\n",
              "        [[ 2,  0],\n",
              "         [ 3,  1],\n",
              "         [ 3,  1]],\n",
              "\n",
              "        [[ 2,  2],\n",
              "         [ 3,  3],\n",
              "         [ 3,  3]],\n",
              "\n",
              "        [[ 1, -1],\n",
              "         [ 2,  0],\n",
              "         [ 2,  0]],\n",
              "\n",
              "        [[ 0,  0],\n",
              "         [ 1,  1],\n",
              "         [ 1,  1]],\n",
              "\n",
              "        [[ 2,  2],\n",
              "         [ 3,  3],\n",
              "         [ 3,  3]],\n",
              "\n",
              "        [[-1,  2],\n",
              "         [ 0,  3],\n",
              "         [ 0,  3]],\n",
              "\n",
              "        [[ 1, -1],\n",
              "         [ 2,  0],\n",
              "         [ 2,  0]],\n",
              "\n",
              "        [[ 0, -1],\n",
              "         [ 1,  0],\n",
              "         [ 1,  0]]],\n",
              "\n",
              "\n",
              "       [[[-1,  1],\n",
              "         [ 0,  2],\n",
              "         [ 0,  2]],\n",
              "\n",
              "        [[ 0,  2],\n",
              "         [ 1,  3],\n",
              "         [ 1,  3]],\n",
              "\n",
              "        [[ 2,  0],\n",
              "         [ 3,  1],\n",
              "         [ 3,  1]],\n",
              "\n",
              "        [[ 2,  2],\n",
              "         [ 3,  3],\n",
              "         [ 3,  3]],\n",
              "\n",
              "        [[ 1, -1],\n",
              "         [ 2,  0],\n",
              "         [ 2,  0]],\n",
              "\n",
              "        [[ 0,  0],\n",
              "         [ 1,  1],\n",
              "         [ 1,  1]],\n",
              "\n",
              "        [[ 2,  2],\n",
              "         [ 3,  3],\n",
              "         [ 3,  3]],\n",
              "\n",
              "        [[-1,  2],\n",
              "         [ 0,  3],\n",
              "         [ 0,  3]],\n",
              "\n",
              "        [[ 1, -1],\n",
              "         [ 2,  0],\n",
              "         [ 2,  0]],\n",
              "\n",
              "        [[ 0, -1],\n",
              "         [ 1,  0],\n",
              "         [ 1,  0]]]])"
            ]
          },
          "metadata": {
            "tags": []
          },
          "execution_count": 99
        }
      ]
    },
    {
      "cell_type": "code",
      "metadata": {
        "id": "OjjZ3OV_7OYl"
      },
      "source": [
        ""
      ],
      "execution_count": null,
      "outputs": []
    }
  ]
}